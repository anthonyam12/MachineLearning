{
 "cells": [
  {
   "cell_type": "code",
   "execution_count": 10,
   "metadata": {},
   "outputs": [
    {
     "name": "stdout",
     "output_type": "stream",
     "text": [
      "        id  member_id  loan_amnt  funded_amnt  funded_amnt_inv        term  \\\n",
      "0  1053090    1284673      10000        10000       10000.0000   36 months   \n",
      "1  1023860    1216633      20000        20000       19750.0000   60 months   \n",
      "2   990324    1214293       7000         7000        7000.0000   36 months   \n",
      "3   893278    1110302       7000         7000        7000.0000   36 months   \n",
      "4   885249    1100860      17325        17325       17168.9701   60 months   \n",
      "\n",
      "  int_rate  installment grade sub_grade     ...      Unnamed: 117  \\\n",
      "0   13.49%       339.31     C        C1     ...               NaN   \n",
      "1   15.27%       478.64     C        C4     ...               NaN   \n",
      "2    6.62%       214.93     A        A2     ...               NaN   \n",
      "3    6.03%       213.05     A        A1     ...               NaN   \n",
      "4   19.42%       453.44     E        E3     ...               NaN   \n",
      "\n",
      "  Unnamed: 118 Unnamed: 119  Unnamed: 120 Unnamed: 121 Unnamed: 122  \\\n",
      "0          NaN          NaN           NaN          NaN          NaN   \n",
      "1          NaN          NaN           NaN          NaN          NaN   \n",
      "2          NaN          NaN           NaN          NaN          NaN   \n",
      "3          NaN          NaN           NaN          NaN          NaN   \n",
      "4          NaN          NaN           NaN          NaN          NaN   \n",
      "\n",
      "  Unnamed: 123 Unnamed: 124 Unnamed: 125 Unnamed: 126  \n",
      "0          NaN          NaN          NaN          NaN  \n",
      "1          NaN          NaN          NaN          NaN  \n",
      "2          NaN          NaN          NaN          NaN  \n",
      "3          NaN          NaN          NaN          NaN  \n",
      "4          NaN          NaN          NaN          NaN  \n",
      "\n",
      "[5 rows x 127 columns]\n"
     ]
    },
    {
     "name": "stderr",
     "output_type": "stream",
     "text": [
      "/usr/local/lib/python3.5/dist-packages/IPython/core/interactiveshell.py:2683: DtypeWarning: Columns (21,22,24,25,26,27,28,29,31,33,36,37,39,43,44,46,50,52,55,56,58,62) have mixed types. Specify dtype option on import or set low_memory=False.\n",
      "  interactivity=interactivity, compiler=compiler, result=result)\n"
     ]
    }
   ],
   "source": [
    "import pandas as pd\n",
    "\n",
    "data = pd.read_csv(\"LoanStats3a.csv\")\n"
   ]
  }
 ],
 "metadata": {
  "kernelspec": {
   "display_name": "Python 3",
   "language": "python",
   "name": "python3"
  },
  "language_info": {
   "codemirror_mode": {
    "name": "ipython",
    "version": 3
   },
   "file_extension": ".py",
   "mimetype": "text/x-python",
   "name": "python",
   "nbconvert_exporter": "python",
   "pygments_lexer": "ipython3",
   "version": "3.5.2"
  }
 },
 "nbformat": 4,
 "nbformat_minor": 2
}
